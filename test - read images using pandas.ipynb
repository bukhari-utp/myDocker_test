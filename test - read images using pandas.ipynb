{
 "cells": [
  {
   "cell_type": "markdown",
   "metadata": {},
   "source": [
    "# read images using pandas \n",
    "\n",
    "TODO:\n",
    "1. Messidor, 2 classes, balanced\n",
    "2. pre-processing"
   ]
  },
  {
   "cell_type": "code",
   "execution_count": null,
   "metadata": {},
   "outputs": [],
   "source": [
    "from pathlib import Path\n",
    "from keras.utils.np_utils import to_categorical\n",
    "from sklearn.model_selection import train_test_split\n",
    "import numpy as np  # LINEAR ALGEBRA\n",
    "import pandas as pd  # DATASET PREPROCESSOING : data processing, CSV file I/O (e.g. pd.read_csv)\n",
    "import matplotlib.pyplot as plt  # VISULAIZATION : showing and rendering figures. Also used SEABORN\n",
    "# io related\n",
    "from skimage.io import imread\n",
    "import os\n",
    "from glob import glob\n",
    "# not needed in Kaggle, but required in Jupyter\n",
    "%matplotlib inline \n"
   ]
  },
  {
   "cell_type": "code",
   "execution_count": null,
   "metadata": {},
   "outputs": [],
   "source": [
    "base_image_dir = '../data/MESSIDOR_patches'\n",
    "retina_df = pd.read_csv(os.path.join(base_image_dir, 'messidor_labels.csv'))\n",
    "retina_df['level'] = retina_df['level'].map(lambda x: 0 if x == 0 else 1)\n",
    "retina_df.tail()"
   ]
  },
  {
   "cell_type": "code",
   "execution_count": null,
   "metadata": {},
   "outputs": [],
   "source": [
    "base_image_dir = '../data/MESSIDOR_patches'\n",
    "retina_df = pd.read_csv(os.path.join(base_image_dir, 'messidor_labels.csv'))\n",
    "retina_df['level2'] = retina_df['level'].map(lambda x: 0 if x == 0 else 1)\n",
    "retina_df['PatientId'] = retina_df['image'] #map(lambda x: x.split('_')[0])\n",
    "retina_df['path'] = retina_df['image'].map(lambda x: os.path.join(base_image_dir, '{}.jpg'.format(x)))\n",
    "retina_df['exists'] = retina_df['path'].map(os.path.exists)\n",
    "print(retina_df['exists'].sum(), 'images found of', retina_df.shape[0], 'total')\n",
    "\n",
    "# retina_df['eye'] = retina_df['image'].map(lambda x: 1 if x.split('_')[-1] == 'left' else 0)\n",
    "retina_df['level_cat'] = retina_df['level'].map(lambda x: to_categorical(x, 1+retina_df['level'].max()))\n",
    "retina_df['level_cat2'] = retina_df['level2'].map(lambda x: to_categorical(x, 1+retina_df['level2'].max()))\n",
    "\n",
    "retina_df.dropna(inplace=True)  # Remove missing values.\n",
    "retina_df = retina_df[retina_df['exists']]\n",
    "retina_df.sample(3)"
   ]
  },
  {
   "cell_type": "code",
   "execution_count": null,
   "metadata": {},
   "outputs": [],
   "source": [
    "# retina_df[['level', 'eye']].hist(figsize=(10, 5))\n",
    "retina_df[['level2']].hist(figsize=(10, 5))"
   ]
  },
  {
   "cell_type": "code",
   "execution_count": null,
   "metadata": {},
   "outputs": [],
   "source": [
    "rr_df = retina_df[['PatientId', 'level2']].drop_duplicates()  # X=PatientId, y=level2\n",
    "train_ids, valid_ids = train_test_split(rr_df['PatientId'], test_size=0.25, random_state=2018, stratify=rr_df['level2'])\n",
    "\n",
    "# raw_train_df = retina_df[retina_df['PatientId'].isin(train_ids)]\n",
    "# train_df = raw_train_df.groupby(['level', 'eye']).apply(lambda x: x.sample(75, replace = True)).reset_index(drop = True)\n",
    "# train_df = raw_train_df.groupby(['level2']).apply(lambda x: x.sample(100, replace=True)).reset_index(drop=True)  # training sample\n",
    "\n",
    "train_df = retina_df[retina_df['PatientId'].isin(train_ids)]  # training sample\n",
    "valid_df = retina_df[retina_df['PatientId'].isin(valid_ids)]  # testing sample"
   ]
  },
  {
   "cell_type": "code",
   "execution_count": null,
   "metadata": {},
   "outputs": [],
   "source": [
    "#print('train_df:', train_df.shape[0], 'raw_train_df:', raw_train_df.shape[0], 'valid_df:', valid_df.shape[0])\n",
    "\n",
    "# train_df[['level', 'eye']].hist(figsize = (10, 5))\n",
    "train_df[['level2']].hist(figsize=(10, 5))"
   ]
  },
  {
   "cell_type": "code",
   "execution_count": null,
   "metadata": {},
   "outputs": [],
   "source": [
    "valid_df[['level2']].hist(figsize=(10, 5))"
   ]
  },
  {
   "cell_type": "code",
   "execution_count": null,
   "metadata": {},
   "outputs": [],
   "source": [
    "y_train = np.array(train_df['level_cat2'])\n",
    "\n",
    "y_train.shape"
   ]
  },
  {
   "cell_type": "code",
   "execution_count": null,
   "metadata": {},
   "outputs": [],
   "source": [
    "y_train[2][0]"
   ]
  },
  {
   "cell_type": "code",
   "execution_count": null,
   "metadata": {},
   "outputs": [],
   "source": [
    "train_df.tail()"
   ]
  },
  {
   "cell_type": "code",
   "execution_count": null,
   "metadata": {},
   "outputs": [],
   "source": [
    "from PIL import Image\n",
    "\n",
    "image_path = train_df['path'][1189]\n",
    "image = Image.open(image_path)\n",
    "image"
   ]
  },
  {
   "cell_type": "code",
   "execution_count": null,
   "metadata": {},
   "outputs": [],
   "source": [
    "image = np.array(image.convert('RGB'))"
   ]
  },
  {
   "cell_type": "code",
   "execution_count": null,
   "metadata": {},
   "outputs": [],
   "source": [
    "image.shape"
   ]
  },
  {
   "cell_type": "code",
   "execution_count": null,
   "metadata": {},
   "outputs": [],
   "source": [
    "label = np.array(train_df['level2'])"
   ]
  },
  {
   "cell_type": "code",
   "execution_count": null,
   "metadata": {},
   "outputs": [],
   "source": [
    "label.shape"
   ]
  },
  {
   "cell_type": "code",
   "execution_count": null,
   "metadata": {},
   "outputs": [],
   "source": [
    "def get_image(image_path, width, height, mode):\n",
    "    image = Image.open(image_path)\n",
    "    image = image.resize([width, height], Image.BILINEAR)\n",
    "    return np.array(image.convert(mode))"
   ]
  },
  {
   "cell_type": "code",
   "execution_count": null,
   "metadata": {},
   "outputs": [],
   "source": [
    "width, height = 224, 224\n",
    "mode = 'RGB'\n",
    "image_files = train_df['path']\n",
    "\n",
    "data_batch = np.array([get_image(sample_file, width, height, mode) for sample_file in image_files])"
   ]
  },
  {
   "cell_type": "code",
   "execution_count": null,
   "metadata": {},
   "outputs": [],
   "source": [
    "data_batch.shape"
   ]
  },
  {
   "cell_type": "code",
   "execution_count": null,
   "metadata": {},
   "outputs": [],
   "source": [
    "plt.imshow(data_batch[1])"
   ]
  },
  {
   "cell_type": "code",
   "execution_count": null,
   "metadata": {},
   "outputs": [],
   "source": [
    "from PIL import Image\n",
    "\n",
    "width, height = 224, 224\n",
    "mode = 'RGB'\n",
    "    \n",
    "def get_image(image_path, width, height, mode):\n",
    "    image = Image.open(image_path)\n",
    "    image = image.resize([width, height], Image.BILINEAR)\n",
    "    return np.array(image.convert(mode))\n",
    "\n",
    "\n",
    "base_image_dir = '../data/MESSIDOR_patches'\n",
    "retina_df = pd.read_csv(os.path.join(base_image_dir, 'messidor_labels.csv'))\n",
    "retina_df['level'] = retina_df['level'].map(lambda x: 0 if x == 0 else 1)\n",
    "retina_df['PatientId'] = retina_df['image'] #map(lambda x: x.split('_')[0])\n",
    "retina_df['path'] = retina_df['image'].map(lambda x: os.path.join(base_image_dir, '{}.jpg'.format(x)))\n",
    "retina_df['exists'] = retina_df['path'].map(os.path.exists)\n",
    "retina_df['level_cat'] = retina_df['level'].map(lambda x: to_categorical(x, 1+retina_df['level'].max()))\n",
    "\n",
    "retina_df.dropna(inplace=True)  # Remove missing values.\n",
    "retina_df = retina_df[retina_df['exists']]\n",
    "\n",
    "rr_df = retina_df[['PatientId', 'level']].drop_duplicates()  # X=PatientId, y=level2\n",
    "train_ids, valid_ids = train_test_split(rr_df['PatientId'], test_size=0.25, random_state=2018, stratify=rr_df['level'])\n",
    "\n",
    "train_df = retina_df[retina_df['PatientId'].isin(train_ids)]   \n",
    "valid_df = retina_df[retina_df['PatientId'].isin(valid_ids)]\n",
    "\n",
    "X_train = np.array([get_image(sample_file, width, height, mode) for sample_file in train_df['path']])\n",
    "y_train = np.array(train_df['level'])\n",
    "X_test = np.array([get_image(sample_file, width, height, mode) for sample_file in valid_df['path']])\n",
    "y_test = np.array(valid_df['level'])\n",
    "    "
   ]
  },
  {
   "cell_type": "code",
   "execution_count": null,
   "metadata": {},
   "outputs": [],
   "source": [
    "train_ids.shape, valid_ids.shape"
   ]
  },
  {
   "cell_type": "code",
   "execution_count": null,
   "metadata": {},
   "outputs": [],
   "source": [
    "X_train.shape, y_train.shape, X_test.shape, y_test.shape"
   ]
  }
 ],
 "metadata": {
  "kernelspec": {
   "display_name": "Python 3",
   "language": "python",
   "name": "python3"
  },
  "language_info": {
   "codemirror_mode": {
    "name": "ipython",
    "version": 3
   },
   "file_extension": ".py",
   "mimetype": "text/x-python",
   "name": "python",
   "nbconvert_exporter": "python",
   "pygments_lexer": "ipython3",
   "version": "3.5.4"
  }
 },
 "nbformat": 4,
 "nbformat_minor": 2
}
