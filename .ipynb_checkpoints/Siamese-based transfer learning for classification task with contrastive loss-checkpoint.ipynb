{
 "cells": [
  {
   "cell_type": "markdown",
   "metadata": {},
   "source": [
    "# Siamese with contrastive loss & euclidean distance\n",
    "\n",
    "siamese transfer learning\n",
    "\n",
    "Source: https://github.com/keras-team/keras/blob/master/examples/mnist_siamese.py\n",
    "\n",
    "Other source:\n",
    "1. https://github.com/bukhari-utp/Siamese-Networks-for-One-Shot-Learning (pair of images)\n",
    "2. https://github.com/bukhari-utp/Siamese-Networks\n",
    "3. https://github.com/bukhari-utp/siamese-transfer-learning\n",
    "\n",
    "It follows Hadsell-et-al.'06 [1] by computing the Euclidean distance on the\n",
    "output of the shared network and by optimizing the contrastive loss (see paper\n",
    "for mode details).\n",
    "\n",
    "References\n",
    "\n",
    "- Dimensionality Reduction by Learning an Invariant Mapping\n",
    "    http://yann.lecun.com/exdb/publis/pdf/hadsell-chopra-lecun-06.pdf\n",
    "\n",
    "\n",
    "level of idea:\n",
    "1. Dimensionality Reduction by Learning an Invariant Mapping\n",
    "2. DeepFace: Closing the Gap to Human-Level Performance in Face Verification\n",
    "3. (proposed) DeepDR: High Fidelity DR detection with Triplet Loss, using InceptionV4 \n",
    "\n",
    "#### TO DO:\n",
    "- [ ] stratified split 10/30/50 % dataset\n",
    "- [ ] Plot training grpah (see: siamese-transfer-learning/siamese_dogs_vs_cats_vgg16.ipynb)"
   ]
  },
  {
   "cell_type": "code",
   "execution_count": 1,
   "metadata": {},
   "outputs": [],
   "source": [
    "import os\n",
    "os.environ[\"CUDA_DEVICE_ORDER\"]=\"PCI_BUS_ID\"   # see issue #152\n",
    "os.environ[\"CUDA_VISIBLE_DEVICES\"]=\"4\""
   ]
  },
  {
   "cell_type": "code",
   "execution_count": 2,
   "metadata": {},
   "outputs": [
    {
     "name": "stderr",
     "output_type": "stream",
     "text": [
      "Using TensorFlow backend.\n"
     ]
    }
   ],
   "source": [
    "from __future__ import absolute_import\n",
    "from __future__ import print_function\n",
    "import numpy as np\n",
    "\n",
    "import random\n",
    "from keras.datasets import mnist\n",
    "from keras.applications.vgg16 import VGG16\n",
    "from keras.models import Model\n",
    "from keras.layers import Input, Flatten, Dense, Dropout, Lambda, Conv2D, MaxPooling2D, Activation, BatchNormalization\n",
    "from keras.optimizers import RMSprop, SGD\n",
    "from keras import backend as K\n",
    "from keras.utils.np_utils import to_categorical\n",
    "from keras.utils.multi_gpu_utils import multi_gpu_model\n",
    "from keras.regularizers import l2, l1\n",
    "from keras.utils import plot_model\n",
    "from keras import backend as K\n",
    "from keras.callbacks import ReduceLROnPlateau, ModelCheckpoint, EarlyStopping\n",
    "\n",
    "from sklearn.model_selection import train_test_split\n",
    "\n",
    "from tensorflow.python.client import device_lib\n",
    "\n",
    "from IPython.display import Image as image_disp\n",
    "\n",
    "import pandas as pd\n",
    "import os\n",
    "from PIL import Image"
   ]
  },
  {
   "cell_type": "code",
   "execution_count": 3,
   "metadata": {},
   "outputs": [],
   "source": [
    "## Restrict GPU memory usage\n",
    "import tensorflow as tf\n",
    "config = tf.ConfigProto()\n",
    "from keras.backend.tensorflow_backend import set_session\n",
    "config.gpu_options.per_process_gpu_memory_fraction = 0.5\n",
    "config.gpu_options.allow_growth = True \n",
    "set_session(tf.Session(config=config))"
   ]
  },
  {
   "cell_type": "code",
   "execution_count": 4,
   "metadata": {},
   "outputs": [],
   "source": [
    "# Check whether GPU is being or not\n",
    "#print(device_lib.list_local_devices())"
   ]
  },
  {
   "cell_type": "code",
   "execution_count": 5,
   "metadata": {},
   "outputs": [],
   "source": [
    "OUT_DIR = '../output/DR-Net_contrastive_loss'\n",
    "if not os.path.exists(OUT_DIR):\n",
    "    os.mkdir('../output/DR-Net_contrastive_loss')\n",
    "\n",
    "CHECKPOINTED_WEIGHTS = os.path.join(OUT_DIR, 'best_checkpointed_weights.hdf5')"
   ]
  },
  {
   "cell_type": "code",
   "execution_count": 6,
   "metadata": {},
   "outputs": [],
   "source": [
    "num_classes = 10\n",
    "\n",
    "def euclidean_distance(vects):\n",
    "    x, y = vects\n",
    "    sum_square = K.sum(K.square(x - y), axis=1, keepdims=True)\n",
    "    return K.sqrt(K.maximum(sum_square, K.epsilon()))\n",
    "\n",
    "def eucl_dist_output_shape(shapes):\n",
    "    shape1, shape2 = shapes\n",
    "    return (shape1[0], 1)\n",
    "\n",
    "def contrastive_loss(y_true, y_pred):\n",
    "    '''Contrastive loss from Hadsell-et-al.'06\n",
    "    http://yann.lecun.com/exdb/publis/pdf/hadsell-chopra-lecun-06.pdf\n",
    "    '''\n",
    "    margin = 1\n",
    "    sqaure_pred = K.square(y_pred)\n",
    "    margin_square = K.square(K.maximum(margin - y_pred, 0))\n",
    "    return K.mean(y_true * sqaure_pred + (1 - y_true) * margin_square)\n",
    "\n",
    "def create_pairs(x, digit_indices):\n",
    "    '''Positive and negative pair creation.\n",
    "    Alternates between positive and negative pairs.\n",
    "    '''\n",
    "    pairs = []\n",
    "    labels = []\n",
    "    n = min([len(digit_indices[d]) for d in range(num_classes)]) - 1\n",
    "    for d in range(num_classes):\n",
    "        for i in range(n):\n",
    "            z1, z2 = digit_indices[d][i], digit_indices[d][i + 1]\n",
    "            pairs += [[x[z1], x[z2]]]\n",
    "            inc = random.randrange(1, num_classes)\n",
    "            dn = (d + inc) % num_classes\n",
    "            z1, z2 = digit_indices[d][i], digit_indices[dn][i]\n",
    "            pairs += [[x[z1], x[z2]]]\n",
    "            labels += [1, 0]  # 1=same class, 0=different class\n",
    "    return np.array(pairs), np.array(labels)\n",
    "\n",
    "def create_base_network(input_shape):\n",
    "    '''Base network to be shared (eq. to feature extraction).\n",
    "    source: https://riptutorial.com/keras/example/32608/transfer-learning-using-keras-and-vgg\n",
    "    '''\n",
    "    \n",
    "    input = Input(shape=input_shape)\n",
    "    x = Flatten()(input)\n",
    "    x = Dense(128, activation='relu')(x)\n",
    "    x = Dropout(0.1)(x)\n",
    "    x = Dense(128, activation='relu')(x)\n",
    "    x = Dropout(0.1)(x)\n",
    "    x = Dense(128, activation='relu')(x)\n",
    "    \"\"\"\n",
    "    \n",
    "    vgg16 = VGG16(weights=None, include_top=False, input_shape = input_shape)  # input_shape=(224,224,3)\n",
    "\n",
    "    # Creating dictionary that maps layer names to the layers\n",
    "    layer_dict = dict([(layer.name, layer) for layer in vgg16.layers])\n",
    "\n",
    "    # Getting output tensor of the last VGG layer that we want to include\n",
    "    x = layer_dict['block2_pool'].output  # block2_pool: 128, block3_pool:256, block5_pool:512\n",
    "\n",
    "    # Stacking a new simple convolutional network on top of it  \n",
    "    x = Conv2D(filters=64, kernel_size=(3, 3), activation='relu')(x)  # very important, to reduce parameters number\n",
    "    x = MaxPooling2D(pool_size=(2, 2))(x)\n",
    "    x = Flatten()(x)\n",
    "    x = Dense(128, activation='relu', name='dense_128')(x)  # x = Dense(128, kernel_regularizer = l2(0.5))(x)\n",
    "    \"\"\"\n",
    "    return Model(input, x, name='base_net')  # Model(vgg16.input, x, name='base_net')\n",
    "\n",
    "def dense_relu_bn_dropout(x, size, dropout, alpha = 0.1, reg = 0):\n",
    "    \"\"\"dense, relu, batch normalization, dropout\n",
    "    \"\"\"\n",
    "    x = Dense(size, kernel_regularizer = l2(reg))(x)\n",
    "    x = Activation('tanh')(x)\n",
    "    x = BatchNormalization()(x)\n",
    "    x = Dropout(dropout)(x)\n",
    "    return x\n",
    "\n",
    "def compute_accuracy(y_true, y_pred):\n",
    "    '''Compute classification accuracy with a fixed threshold on distances.\n",
    "    '''\n",
    "    pred = y_pred.ravel() < 0.5\n",
    "    return np.mean(pred == y_true)\n",
    "\n",
    "def accuracy(y_true, y_pred):\n",
    "    '''Compute classification accuracy with a fixed threshold on distances.\n",
    "    '''\n",
    "    return K.mean(K.equal(y_true, K.cast(y_pred < 0.5, y_true.dtype)))"
   ]
  },
  {
   "cell_type": "code",
   "execution_count": 7,
   "metadata": {},
   "outputs": [],
   "source": [
    "#width, height = 224, 224\n",
    "mode = 'RGB'\n",
    "\n",
    "def get_image(image_path, width, height, mode):\n",
    "    image = Image.open(image_path)\n",
    "    image = image.resize([width, height], Image.BILINEAR)\n",
    "    return np.array(image.convert(mode))\n",
    "\n",
    "def load_data():  # MESSIDOR dataset\n",
    "    base_image_dir = '../data/MESSIDOR_patches'\n",
    "    retina_df = pd.read_csv(os.path.join(base_image_dir, 'messidor_labels.csv'))\n",
    "    retina_df['level'] = retina_df['level'].map(lambda x: 0 if x == 0 else 1)\n",
    "    retina_df['PatientId'] = retina_df['image'] #map(lambda x: x.split('_')[0])\n",
    "    retina_df['path'] = retina_df['image'].map(lambda x: os.path.join(base_image_dir, '{}.jpg'.format(x)))\n",
    "    retina_df['exists'] = retina_df['path'].map(os.path.exists)\n",
    "    retina_df['level_cat'] = retina_df['level'].map(lambda x: to_categorical(x, 1+retina_df['level'].max()))\n",
    "\n",
    "    retina_df.dropna(inplace=True)  # Remove missing values.\n",
    "    retina_df = retina_df[retina_df['exists']]\n",
    "\n",
    "    rr_df = retina_df[['PatientId', 'level']].drop_duplicates()  # X=PatientId, y=level2\n",
    "    train_ids, valid_ids = train_test_split(rr_df['PatientId'], test_size=0.25, random_state=2018, stratify=rr_df['level'])\n",
    "\n",
    "    train_df = retina_df[retina_df['PatientId'].isin(train_ids)]   \n",
    "    valid_df = retina_df[retina_df['PatientId'].isin(valid_ids)]\n",
    "\n",
    "    X_train = np.array([get_image(sample_file, width, height, mode) for sample_file in train_df['path']])\n",
    "    y_train = np.array(train_df['level'])\n",
    "    X_test = np.array([get_image(sample_file, width, height, mode) for sample_file in valid_df['path']])\n",
    "    y_test = np.array(valid_df['level'])\n",
    "    \n",
    "    return (X_train, y_train), (X_test, y_test)"
   ]
  },
  {
   "cell_type": "code",
   "execution_count": 8,
   "metadata": {},
   "outputs": [],
   "source": [
    "# the data, split between train and test sets\n",
    "(x_train, y_train), (x_test, y_test) = mnist.load_data()\n",
    "#(x_train, y_train), (x_test, y_test) = load_data()  # MESSIDOR dataset\n",
    "x_train = x_train.astype('float32')\n",
    "x_test = x_test.astype('float32')\n",
    "x_train /= 255\n",
    "x_test /= 255"
   ]
  },
  {
   "cell_type": "code",
   "execution_count": 9,
   "metadata": {},
   "outputs": [
    {
     "data": {
      "text/plain": [
       "((60000, 28, 28), (10000, 28, 28))"
      ]
     },
     "execution_count": 9,
     "metadata": {},
     "output_type": "execute_result"
    }
   ],
   "source": [
    "x_train.shape, x_test.shape"
   ]
  },
  {
   "cell_type": "code",
   "execution_count": 11,
   "metadata": {},
   "outputs": [
    {
     "data": {
      "text/plain": [
       "((54000, 28, 28), (54000,), (6000, 28, 28), (6000,))"
      ]
     },
     "execution_count": 11,
     "metadata": {},
     "output_type": "execute_result"
    }
   ],
   "source": [
    "x_train_res, x_train, y_train_res, y_train = train_test_split(x_train, y_train, test_size=0.10, random_state=2018, stratify=y_train)\n",
    "x_train_res.shape, y_train_res.shape, x_train.shape, y_train.shape"
   ]
  },
  {
   "cell_type": "markdown",
   "metadata": {},
   "source": [
    "## Train siamese "
   ]
  },
  {
   "cell_type": "code",
   "execution_count": 12,
   "metadata": {},
   "outputs": [],
   "source": [
    "# create training+test positive and negative pairs\n",
    "digit_indices = [np.where(y_train == i)[0] for i in range(num_classes)]\n",
    "tr_pairs, tr_y = create_pairs(x_train, digit_indices)\n",
    "\n",
    "digit_indices = [np.where(y_test == i)[0] for i in range(num_classes)]\n",
    "te_pairs, te_y = create_pairs(x_test, digit_indices)"
   ]
  },
  {
   "cell_type": "code",
   "execution_count": 13,
   "metadata": {},
   "outputs": [],
   "source": [
    "input_shape = x_train.shape[1:] # (224,224,3)\n",
    "# network definition\n",
    "base_network = create_base_network(input_shape)\n",
    "\n",
    "input_a = Input(shape=input_shape, name='input_a')\n",
    "input_b = Input(shape=input_shape, name='input_b')\n",
    "\n",
    "# because we re-use the same instance `base_network`,\n",
    "# the weights of the network will be shared across the two branches\n",
    "processed_a = base_network(input_a)\n",
    "processed_b = base_network(input_b)\n",
    "#processed_c = base_network(input_c)\n",
    "\n",
    "distance = Lambda(euclidean_distance, output_shape=eucl_dist_output_shape, name='euc_dist')([processed_a, processed_b])\n",
    "# in 'siamese_dogs_vs_cats_vgg16', it used cos distance with sigmoid\n",
    "\n",
    "# To avoid OOM errors, this model could have been built on CPU\n",
    "import tensorflow as tf\n",
    "with tf.device('/cpu:0'):\n",
    "    siamese_net = Model([input_a, input_b], distance)"
   ]
  },
  {
   "cell_type": "code",
   "execution_count": 14,
   "metadata": {},
   "outputs": [
    {
     "name": "stdout",
     "output_type": "stream",
     "text": [
      "__________________________________________________________________________________________________\n",
      "Layer (type)                    Output Shape         Param #     Connected to                     \n",
      "==================================================================================================\n",
      "input_a (InputLayer)            (None, 28, 28)       0                                            \n",
      "__________________________________________________________________________________________________\n",
      "input_b (InputLayer)            (None, 28, 28)       0                                            \n",
      "__________________________________________________________________________________________________\n",
      "base_net (Model)                (None, 128)          133504      input_a[0][0]                    \n",
      "                                                                 input_b[0][0]                    \n",
      "__________________________________________________________________________________________________\n",
      "euc_dist (Lambda)               (None, 1)            0           base_net[1][0]                   \n",
      "                                                                 base_net[2][0]                   \n",
      "==================================================================================================\n",
      "Total params: 133,504\n",
      "Trainable params: 133,504\n",
      "Non-trainable params: 0\n",
      "__________________________________________________________________________________________________\n"
     ]
    }
   ],
   "source": [
    "siamese_net.summary()\n",
    "MODEL_IMAGE = os.path.join(OUT_DIR, 'siamese_contrastive_loss.png')\n",
    "plot_model(siamese_net, to_file=MODEL_IMAGE, show_shapes=True)\n",
    "#image_disp(filename=MODEL_IMAGE)"
   ]
  },
  {
   "cell_type": "code",
   "execution_count": 15,
   "metadata": {},
   "outputs": [
    {
     "name": "stdout",
     "output_type": "stream",
     "text": [
      "Train on 10820 samples, validate on 17820 samples\n",
      "Epoch 1/10\n",
      "10820/10820 [==============================] - 2s 199us/step - loss: 0.1781 - accuracy: 0.7415 - val_loss: 0.1085 - val_accuracy: 0.8626\n",
      "\n",
      "Epoch 00001: val_accuracy improved from -inf to 0.86263, saving model to ../output/DR-Net_contrastive_loss/best_checkpointed_weights.hdf5\n",
      "Epoch 2/10\n",
      "10820/10820 [==============================] - 2s 152us/step - loss: 0.1060 - accuracy: 0.8748 - val_loss: 0.0836 - val_accuracy: 0.9014\n",
      "\n",
      "Epoch 00002: val_accuracy improved from 0.86263 to 0.90140, saving model to ../output/DR-Net_contrastive_loss/best_checkpointed_weights.hdf5\n",
      "Epoch 3/10\n",
      "10820/10820 [==============================] - 2s 162us/step - loss: 0.0771 - accuracy: 0.9202 - val_loss: 0.0742 - val_accuracy: 0.9163\n",
      "\n",
      "Epoch 00003: val_accuracy improved from 0.90140 to 0.91633, saving model to ../output/DR-Net_contrastive_loss/best_checkpointed_weights.hdf5\n",
      "Epoch 4/10\n",
      "10820/10820 [==============================] - 2s 159us/step - loss: 0.0591 - accuracy: 0.9450 - val_loss: 0.0641 - val_accuracy: 0.9293\n",
      "\n",
      "Epoch 00004: val_accuracy improved from 0.91633 to 0.92935, saving model to ../output/DR-Net_contrastive_loss/best_checkpointed_weights.hdf5\n",
      "Epoch 5/10\n",
      "10820/10820 [==============================] - 2s 156us/step - loss: 0.0477 - accuracy: 0.9575 - val_loss: 0.0566 - val_accuracy: 0.9381\n",
      "\n",
      "Epoch 00005: val_accuracy improved from 0.92935 to 0.93810, saving model to ../output/DR-Net_contrastive_loss/best_checkpointed_weights.hdf5\n",
      "Epoch 6/10\n",
      "10820/10820 [==============================] - 2s 154us/step - loss: 0.0398 - accuracy: 0.9657 - val_loss: 0.0528 - val_accuracy: 0.9393\n",
      "\n",
      "Epoch 00006: val_accuracy improved from 0.93810 to 0.93928, saving model to ../output/DR-Net_contrastive_loss/best_checkpointed_weights.hdf5\n",
      "Epoch 7/10\n",
      "10820/10820 [==============================] - 2s 163us/step - loss: 0.0324 - accuracy: 0.9718 - val_loss: 0.0501 - val_accuracy: 0.9416\n",
      "\n",
      "Epoch 00007: val_accuracy improved from 0.93928 to 0.94158, saving model to ../output/DR-Net_contrastive_loss/best_checkpointed_weights.hdf5\n",
      "Epoch 8/10\n",
      "10820/10820 [==============================] - 2s 158us/step - loss: 0.0287 - accuracy: 0.9755 - val_loss: 0.0504 - val_accuracy: 0.9403\n",
      "\n",
      "Epoch 00008: val_accuracy did not improve from 0.94158\n",
      "Epoch 9/10\n",
      "10820/10820 [==============================] - 2s 161us/step - loss: 0.0237 - accuracy: 0.9792 - val_loss: 0.0526 - val_accuracy: 0.9391\n",
      "\n",
      "Epoch 00009: val_accuracy did not improve from 0.94158\n",
      "Epoch 10/10\n",
      "10820/10820 [==============================] - 2s 161us/step - loss: 0.0214 - accuracy: 0.9814 - val_loss: 0.0496 - val_accuracy: 0.9397\n",
      "\n",
      "Epoch 00010: val_accuracy did not improve from 0.94158\n"
     ]
    },
    {
     "data": {
      "text/plain": [
       "<keras.callbacks.History at 0x7f9dcd08aef0>"
      ]
     },
     "execution_count": 15,
     "metadata": {},
     "output_type": "execute_result"
    }
   ],
   "source": [
    "# train\n",
    "BATCH_SIZE = 32 #128 (OOM)\n",
    "epochs = 10  # 20\n",
    "rms = RMSprop()\n",
    "reduce_lr = ReduceLROnPlateau(monitor='val_acc', factor=0.5,\n",
    "              patience=5, verbose = 1, min_lr=1e-8)\n",
    "early_stopping = EarlyStopping(monitor='val_acc',\n",
    "                              min_delta=1e-4,\n",
    "                              patience=25,\n",
    "                              verbose=0, mode='auto')\n",
    "checkpointer = ModelCheckpoint(filepath=CHECKPOINTED_WEIGHTS, verbose=1, save_best_only=True, monitor='val_accuracy')\n",
    "callback_list = [checkpointer]\n",
    "\n",
    "#siamese_net = multi_gpu_model(siamese_net, gpus=4)  # multi-gpu\n",
    "siamese_net.compile(loss=contrastive_loss, optimizer=rms, metrics=[accuracy])\n",
    "siamese_net.fit([tr_pairs[:, 0], tr_pairs[:, 1]], tr_y,\n",
    "                validation_split=.33,\n",
    "                batch_size=BATCH_SIZE,\n",
    "                epochs=epochs,\n",
    "                validation_data=([te_pairs[:, 0], te_pairs[:, 1]], te_y),\n",
    "                callbacks=callback_list)\n",
    "# in 'siamese_dogs_vs_cats_vgg16' it has history"
   ]
  },
  {
   "cell_type": "code",
   "execution_count": 16,
   "metadata": {},
   "outputs": [
    {
     "name": "stdout",
     "output_type": "stream",
     "text": [
      "* Accuracy on training set: 98.81%\n",
      "* Accuracy on test set: 93.97%\n"
     ]
    }
   ],
   "source": [
    "# compute final accuracy on training and test sets\n",
    "y_pred = siamese_net.predict([tr_pairs[:, 0], tr_pairs[:, 1]])\n",
    "tr_acc = compute_accuracy(tr_y, y_pred)\n",
    "y_pred = siamese_net.predict([te_pairs[:, 0], te_pairs[:, 1]])\n",
    "te_acc = compute_accuracy(te_y, y_pred)\n",
    "\n",
    "print('* Accuracy on training set: %0.2f%%' % (100 * tr_acc))\n",
    "print('* Accuracy on test set: %0.2f%%' % (100 * te_acc))"
   ]
  },
  {
   "cell_type": "markdown",
   "metadata": {},
   "source": [
    "## Train 'trained_based_net' to classify DR \n",
    "- Clear all\n",
    "- save previous weight\n",
    "- load previous weight\n",
    "- do network surgery\n",
    "- freeze"
   ]
  },
  {
   "cell_type": "code",
   "execution_count": 17,
   "metadata": {},
   "outputs": [],
   "source": [
    "#from IPython.display import display_html\n",
    "#def restartkernel() :\n",
    "#    display_html(\"<script>Jupyter.notebook.kernel.restart()</script>\",raw=True)"
   ]
  },
  {
   "cell_type": "code",
   "execution_count": 18,
   "metadata": {},
   "outputs": [],
   "source": [
    "#restartkernel()"
   ]
  },
  {
   "cell_type": "code",
   "execution_count": 19,
   "metadata": {},
   "outputs": [],
   "source": [
    "# Initialize siamese network\n",
    "# input_shape = (224,224,3)\n",
    "# network definition\n",
    "base_network = create_base_network(input_shape)\n",
    "\n",
    "input_a = Input(shape=input_shape, name='input_a')\n",
    "input_b = Input(shape=input_shape, name='input_b')\n",
    "\n",
    "# because we re-use the same instance `base_network`,\n",
    "# the weights of the network will be shared across the two branches\n",
    "processed_a = base_network(input_a)\n",
    "processed_b = base_network(input_b)\n",
    "\n",
    "distance = Lambda(euclidean_distance, output_shape=eucl_dist_output_shape, name='euc_dist')([processed_a, processed_b])\n",
    "# in 'siamese_dogs_vs_cats_vgg16', it used cos distance with sigmoid\n",
    "\n",
    "# To avoid OOM errors, this model could have been built on CPU\n",
    "import tensorflow as tf\n",
    "with tf.device('/cpu:0'):\n",
    "    siamese_net = Model([input_a, input_b], distance)\n",
    "    \n",
    "# siamese_net.load_weights(CHECKPOINTED_WEIGHTS)"
   ]
  },
  {
   "cell_type": "code",
   "execution_count": 20,
   "metadata": {},
   "outputs": [
    {
     "name": "stdout",
     "output_type": "stream",
     "text": [
      "_________________________________________________________________\n",
      "Layer (type)                 Output Shape              Param #   \n",
      "=================================================================\n",
      "input_2 (InputLayer)         (None, 28, 28)            0         \n",
      "_________________________________________________________________\n",
      "flatten_2 (Flatten)          (None, 784)               0         \n",
      "_________________________________________________________________\n",
      "dense_4 (Dense)              (None, 128)               100480    \n",
      "_________________________________________________________________\n",
      "dropout_3 (Dropout)          (None, 128)               0         \n",
      "_________________________________________________________________\n",
      "dense_5 (Dense)              (None, 128)               16512     \n",
      "_________________________________________________________________\n",
      "dropout_4 (Dropout)          (None, 128)               0         \n",
      "_________________________________________________________________\n",
      "dense_6 (Dense)              (None, 128)               16512     \n",
      "_________________________________________________________________\n",
      "BatchNormalization (BatchNor (None, 128)               512       \n",
      "_________________________________________________________________\n",
      "dropout_5 (Dropout)          (None, 128)               0         \n",
      "_________________________________________________________________\n",
      "output (Dense)               (None, 10)                1290      \n",
      "=================================================================\n",
      "Total params: 135,306\n",
      "Trainable params: 135,050\n",
      "Non-trainable params: 256\n",
      "_________________________________________________________________\n"
     ]
    },
    {
     "data": {
      "image/png": "[encoded data removed]",
      "text/plain": [
       "<IPython.core.display.Image object>"
      ]
     },
     "execution_count": 20,
     "metadata": {},
     "output_type": "execute_result"
    }
   ],
   "source": [
    "# Siamese Network surgery\n",
    "\n",
    "layer_dict = dict([(layer.name, layer) for layer in siamese_net.layers])\n",
    "# for key in layer_dict: print(key)\n",
    "\n",
    "for layer in layer_dict['base_net'].layers:\n",
    "    layer.trainable = True  # TODO: Transfer Learning = False, All layer Learning = True\n",
    "\n",
    "inputs = layer_dict['base_net'].get_input_at(0)  # layer_dict['base_net'].get_input_at(0)\n",
    "\n",
    "x = layer_dict['base_net'].get_output_at(0)\n",
    "x = BatchNormalization(name='BatchNormalization')(x)\n",
    "x = Dropout(0.5)(x)\n",
    "x = Dense(num_classes, activation='softmax', name='output')(x)\n",
    "\n",
    "with tf.device('/cpu:0'):\n",
    "    trained_based_net = Model(inputs=inputs, outputs = x)\n",
    "\n",
    "trained_based_net.summary()\n",
    "\n",
    "MODEL_IMAGE = os.path.join(OUT_DIR, 'trained_based_net.png')\n",
    "plot_model(trained_based_net, to_file=MODEL_IMAGE, show_shapes=True)\n",
    "image_disp(filename=MODEL_IMAGE)"
   ]
  },
  {
   "cell_type": "code",
   "execution_count": 21,
   "metadata": {},
   "outputs": [
    {
     "name": "stdout",
     "output_type": "stream",
     "text": [
      "Train on 6000 samples, validate on 10000 samples\n",
      "Epoch 1/20\n",
      "6000/6000 [==============================] - 2s 259us/step - loss: 1.3580 - acc: 0.5608 - val_loss: 0.4704 - val_acc: 0.8623\n",
      "Epoch 2/20\n",
      "6000/6000 [==============================] - 1s 160us/step - loss: 0.6617 - acc: 0.7928 - val_loss: 0.3717 - val_acc: 0.8900\n",
      "Epoch 3/20\n",
      "6000/6000 [==============================] - 1s 159us/step - loss: 0.5129 - acc: 0.8467 - val_loss: 0.3231 - val_acc: 0.9064\n",
      "Epoch 4/20\n",
      "6000/6000 [==============================] - 1s 157us/step - loss: 0.4371 - acc: 0.8662 - val_loss: 0.2850 - val_acc: 0.9149\n",
      "Epoch 5/20\n",
      "6000/6000 [==============================] - 1s 157us/step - loss: 0.3763 - acc: 0.8905 - val_loss: 0.2708 - val_acc: 0.9197\n",
      "Epoch 6/20\n",
      "6000/6000 [==============================] - 1s 168us/step - loss: 0.3346 - acc: 0.8993 - val_loss: 0.2691 - val_acc: 0.9181\n",
      "Epoch 7/20\n",
      "6000/6000 [==============================] - 1s 172us/step - loss: 0.2934 - acc: 0.9160 - val_loss: 0.2338 - val_acc: 0.9285\n",
      "Epoch 8/20\n",
      "6000/6000 [==============================] - 1s 166us/step - loss: 0.2691 - acc: 0.9188 - val_loss: 0.2282 - val_acc: 0.9317\n",
      "Epoch 9/20\n",
      "6000/6000 [==============================] - 1s 166us/step - loss: 0.2450 - acc: 0.9268 - val_loss: 0.2246 - val_acc: 0.9340\n",
      "Epoch 10/20\n",
      "6000/6000 [==============================] - 1s 160us/step - loss: 0.2195 - acc: 0.9338 - val_loss: 0.2167 - val_acc: 0.9352\n",
      "Epoch 11/20\n",
      "6000/6000 [==============================] - 1s 164us/step - loss: 0.2013 - acc: 0.9403 - val_loss: 0.2137 - val_acc: 0.9373\n",
      "Epoch 12/20\n",
      "6000/6000 [==============================] - 1s 157us/step - loss: 0.1849 - acc: 0.9430 - val_loss: 0.2114 - val_acc: 0.9377\n",
      "Epoch 13/20\n",
      "6000/6000 [==============================] - 1s 164us/step - loss: 0.1770 - acc: 0.9480 - val_loss: 0.2083 - val_acc: 0.9371\n",
      "Epoch 14/20\n",
      "6000/6000 [==============================] - 1s 159us/step - loss: 0.1710 - acc: 0.9477 - val_loss: 0.2017 - val_acc: 0.9413\n",
      "Epoch 15/20\n",
      "6000/6000 [==============================] - 1s 172us/step - loss: 0.1552 - acc: 0.9540 - val_loss: 0.1974 - val_acc: 0.9418\n",
      "Epoch 16/20\n",
      "6000/6000 [==============================] - 1s 160us/step - loss: 0.1466 - acc: 0.9597 - val_loss: 0.2048 - val_acc: 0.9396\n",
      "Epoch 17/20\n",
      "6000/6000 [==============================] - 1s 156us/step - loss: 0.1358 - acc: 0.9590 - val_loss: 0.2037 - val_acc: 0.9407\n",
      "Epoch 18/20\n",
      "6000/6000 [==============================] - 1s 153us/step - loss: 0.1192 - acc: 0.9653 - val_loss: 0.2023 - val_acc: 0.9408\n",
      "Epoch 19/20\n",
      "6000/6000 [==============================] - 1s 150us/step - loss: 0.1169 - acc: 0.9663 - val_loss: 0.1978 - val_acc: 0.9423\n",
      "Epoch 20/20\n",
      "6000/6000 [==============================] - 1s 158us/step - loss: 0.1080 - acc: 0.9712 - val_loss: 0.1950 - val_acc: 0.9435\n"
     ]
    },
    {
     "data": {
      "text/plain": [
       "<keras.callbacks.History at 0x7f9dabf49400>"
      ]
     },
     "execution_count": 21,
     "metadata": {},
     "output_type": "execute_result"
    }
   ],
   "source": [
    "# train\n",
    "BATCH_SIZE = 32 #128 (OOM)\n",
    "epochs = 20\n",
    "rms = RMSprop()\n",
    "sgd = SGD()\n",
    "#trained_based_net = multi_gpu_model(trained_based_net, gpus=4)  # multi-gpu\n",
    "trained_based_net.compile(loss='categorical_crossentropy', optimizer=sgd, metrics=['accuracy'])\n",
    "trained_based_net.fit(x_train, to_categorical(y_train, 1+y_train.max()),\n",
    "                      batch_size=BATCH_SIZE,\n",
    "                      epochs=epochs,\n",
    "                      validation_data=(x_test, to_categorical(y_test,1+y_test.max())))"
   ]
  },
  {
   "cell_type": "code",
   "execution_count": 22,
   "metadata": {},
   "outputs": [
    {
     "name": "stdout",
     "output_type": "stream",
     "text": [
      "6000/6000 [==============================] - 0s 34us/step\n",
      "[0.02687243561446667, 0.9943333333333333]\n",
      "10000/10000 [==============================] - 0s 35us/step\n",
      "[0.19497653886070476, 0.9435]\n"
     ]
    }
   ],
   "source": [
    "print(trained_based_net.evaluate(x_train, to_categorical(y_train, 1+y_train.max())))\n",
    "print(trained_based_net.evaluate(x_test, to_categorical(y_test, 1+y_test.max())))"
   ]
  },
  {
   "cell_type": "code",
   "execution_count": null,
   "metadata": {},
   "outputs": [],
   "source": []
  }
 ],
 "metadata": {
  "kernelspec": {
   "display_name": "Python 3",
   "language": "python",
   "name": "python3"
  },
  "language_info": {
   "codemirror_mode": {
    "name": "ipython",
    "version": 3
   },
   "file_extension": ".py",
   "mimetype": "text/x-python",
   "name": "python",
   "nbconvert_exporter": "python",
   "pygments_lexer": "ipython3",
   "version": "3.5.4"
  }
 },
 "nbformat": 4,
 "nbformat_minor": 2
}
